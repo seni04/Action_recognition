{
 "cells": [
  {
   "cell_type": "code",
   "execution_count": 10,
   "metadata": {},
   "outputs": [],
   "source": [
    "import matplotlib\n",
    "matplotlib.use(\"Agg\")\n",
    " \n",
    "# import the necessary packages\n",
    "from tensorflow import keras\n",
    "from keras.layers.core import Dropout\n",
    "from keras.layers.core import Flatten\n",
    "from keras.layers.core import Dense\n",
    "from keras.layers import Input\n",
    "from keras.models import Model\n",
    "from keras.optimizers import Optimizer\n",
    "from sklearn.preprocessing import LabelBinarizer\n",
    "from sklearn.model_selection import train_test_split\n",
    "from sklearn.metrics import classification_report\n",
    "from keras.models import load_model\n",
    "from keras import regularizers\n",
    "from imutils import paths\n",
    "import matplotlib.pyplot as plt\n",
    "import numpy as np\n",
    "import argparse\n",
    "import pickle\n",
    "import cv2\n",
    "import os\n",
    "from PIL import Image\n",
    "import hickle\n",
    "from os import listdir \n",
    "from os.path import isfile, join, isdir\n",
    "import random\n",
    "import sys\n",
    "import tensorflow as tf\n",
    "os.environ[\"CUDA_VISIBLE_DEVICES\"] = \"0\"\n",
    "from keras.callbacks import ModelCheckpoint\n"
   ]
  },
  {
   "cell_type": "code",
   "execution_count": null,
   "metadata": {},
   "outputs": [],
   "source": [
    "from keras import backend as k\n",
    " \n",
    "###################################\n",
    "# TensorFlow wizardry\n",
    "config = tf.ConfigProto()\n",
    " \n",
    "# Don't pre-allocate memory; allocate as-needed\n",
    "config.gpu_options.allow_growth = True\n",
    " \n",
    "# Only allow a total of half the GPU memory to be allocated\n",
    "config.gpu_options.per_process_gpu_memory_fraction = 0.3\n",
    " \n",
    "# Create a session with the above options specified.\n",
    "k.tensorflow_backend.set_session(tf.Session(config=config))\n",
    "###################################"
   ]
  },
  {
   "cell_type": "code",
   "execution_count": null,
   "metadata": {},
   "outputs": [],
   "source": [
    "#att per 64\n",
    "model = keras.Sequential([\n",
    "    keras.layers.Flatten(input_shape=(16,1024)),\n",
    "#     keras.layers.Dropout(0.2),\n",
    "#     keras.layers.Dense(256, activation='relu'),\n",
    "#     keras.layers.Dropout(0.5),\n",
    "#     keras.layers.Dense(64, activation='relu', input_dim=64,kernel_regularizer=regularizers.l2(0.001),activity_regularizer=regularizers.l1(0.001)),\n",
    "    keras.layers.Dropout(0.9),\n",
    "    keras.layers.Dense(64, input_dim=64,kernel_regularizer=regularizers.l2(0.001),activity_regularizer=regularizers.l1(0.001)),\n",
    "#     keras.layers.Dropout(0.9),  \n",
    "    keras.layers.Dense(51, activation='softmax')\n",
    "])\n",
    "adam = keras.optimizers.Adam(lr=0.000001, beta_1=0.9, beta_2=0.999, epsilon=1e-08, decay=0.0)\n",
    "model.compile(optimizer=adam,\n",
    "              loss='sparse_categorical_crossentropy',\n",
    "              metrics=['accuracy'])\n",
    "\n",
    "checkpoint = ModelCheckpoint('/media/senilab/DATA2/new_feature_att/checkpoint/model-rgb', monitor='loss', verbose=1, save_best_only=True, mode='max')\n",
    "callbacks_list = [checkpoint]\n"
   ]
  },
  {
   "cell_type": "code",
   "execution_count": null,
   "metadata": {
    "scrolled": true
   },
   "outputs": [],
   "source": [
    "#att rgb\n",
    "data_att ='/media/senilab/DATA2/new_feature_att/feature_rgb_att_train_i3d_5c_new'\n",
    "load_att = hickle.load(data_att)\n",
    "input_feat_att = load_att['feat']\n",
    "input_label_att = load_att['label']\n",
    "model.fit(input_feat_att, input_label_att, epochs=50000)"
   ]
  },
  {
   "cell_type": "code",
   "execution_count": null,
   "metadata": {},
   "outputs": [],
   "source": [
    "model.save('/media/senilab/DATA2/new_feature_att/model-flow-att-5c-0.000001-50000-acc0.783loss0.98.h5')"
   ]
  },
  {
   "cell_type": "code",
   "execution_count": null,
   "metadata": {},
   "outputs": [],
   "source": [
    "model = tf.keras.models.load_model('/media/senilab/DATA2/new_feature_att/model_att_rgb_0.000001_300000.h5')"
   ]
  },
  {
   "cell_type": "code",
   "execution_count": null,
   "metadata": {},
   "outputs": [],
   "source": [
    "# print(type(tf.Session().run(pred)))\n",
    "init_op = tf.initialize_all_variables()\n",
    "config = tf.ConfigProto()\n",
    "config.gpu_options.allow_growth = True\n",
    "sess = tf.Session(config=config)\n",
    "sess.run(pred)"
   ]
  },
  {
   "cell_type": "code",
   "execution_count": null,
   "metadata": {},
   "outputs": [],
   "source": [
    "#att rgb\n",
    "data_att ='/media/senilab/DATA2/feature_attention/feature_dp_att_test_i3d_5c_new_sorted'\n",
    "load_att = hickle.load(data_att)\n",
    "test_feat_att = load_att['feat']\n",
    "test_label_att = load_att['label']\n",
    "model.evaluate(test_feat_att,  test_label_att)"
   ]
  },
  {
   "cell_type": "code",
   "execution_count": null,
   "metadata": {
    "scrolled": true
   },
   "outputs": [],
   "source": [
    "model = tf.keras.models.load_model('/media/senilab/DATA2/new_feature_att/model-flow-att-5c-0.000001-20000')"
   ]
  },
  {
   "cell_type": "code",
   "execution_count": null,
   "metadata": {
    "scrolled": true
   },
   "outputs": [],
   "source": [
    "#att flow\n",
    "data_att ='/media/senilab/DATA2/feature_attention/feature_dp_att_train_i3d_5c_new_sorted'\n",
    "load_att = hickle.load(data_att)\n",
    "input_feat_att = load_att['feat']\n",
    "input_label_att = load_att['label']\n",
    "model.fit(input_feat_att, input_label_att, epochs=50000)"
   ]
  },
  {
   "cell_type": "code",
   "execution_count": null,
   "metadata": {},
   "outputs": [],
   "source": [
    "data_att ='/media/senilab/DATA2/feature_attention/feature_rgb_train_i3d_5c_sorted'\n",
    "load_att = hickle.load(data_att)\n",
    "input_feat_att = load_att['feat']\n",
    "input_label_att = load_att['label']\n",
    "\n",
    "data_att ='/media/senilab/DATA2/feature_attention/feature_flow_train_i3d_5c_sorted'\n",
    "load_att_rgb = hickle.load(data_att)\n",
    "input_feat_att_rgb = load_att_rgb['feat']\n",
    "input_label_att_rgb = load_att_rgb['label']\n",
    "\n",
    "data_att ='/media/senilab/DATA2/feature_attention/feature_dp_att_train_i3d_5c_new_sorted'\n",
    "load_att_op = hickle.load(data_att)\n",
    "input_feat_att_op = load_att_op['feat']\n",
    "input_label_att_op = load_att_op['label']"
   ]
  },
  {
   "cell_type": "code",
   "execution_count": null,
   "metadata": {},
   "outputs": [],
   "source": [
    "data_att ='/media/senilab/DATA2/feature_attention/feature_rgb_test_i3d_5c_sorted'\n",
    "load_att_rgb = hickle.load(data_att)\n",
    "test_feat_att_rgb = load_att_rgb['feat']\n",
    "test_label_att_rgb = load_att_rgb['label']\n",
    "\n",
    "data_att ='/media/senilab/DATA2/feature_attention/feature_flow_test_i3d_5c_sorted'\n",
    "load_att = hickle.load(data_att)\n",
    "test_feat_att = load_att['feat']\n",
    "test_label_att = load_att['label']\n",
    "\n",
    "data_att ='/media/senilab/DATA2/feature_attention/feature_dp_att_test_i3d_5c_new_sorted'\n",
    "load_att_op = hickle.load(data_att)\n",
    "test_feat_att_op = load_att_op['feat']\n",
    "test_label_att_op = load_att_op['label']"
   ]
  },
  {
   "cell_type": "code",
   "execution_count": null,
   "metadata": {},
   "outputs": [],
   "source": [
    "test_label_att_op"
   ]
  },
  {
   "cell_type": "code",
   "execution_count": null,
   "metadata": {},
   "outputs": [],
   "source": [
    "test_label_att"
   ]
  },
  {
   "cell_type": "code",
   "execution_count": null,
   "metadata": {},
   "outputs": [],
   "source": [
    "test_label_att_rgb"
   ]
  },
  {
   "cell_type": "code",
   "execution_count": null,
   "metadata": {},
   "outputs": [],
   "source": [
    "import keras\n",
    "from keras.callbacks import ModelCheckpoint\n",
    "\n",
    "input1 = keras.layers.Input(shape=(16,1024))\n",
    "x1 = Flatten()(input1)\n",
    "x1 = keras.layers.Dropout(0.9)(x1)\n",
    "# x1 = keras.layers.Dense(64, input_dim=64,kernel_regularizer=regularizers.l2(0.001),activity_regularizer=regularizers.l1(0.001))(x1)\n",
    "\n",
    "input2 = keras.layers.Input(shape=(16,1024))\n",
    "x2 = Flatten()(input2)\n",
    "x2 = keras.layers.Dropout(0.9)(x2)\n",
    "# x2 = keras.layers.Dense(64, input_dim=64,kernel_regularizer=regularizers.l2(0.001),activity_regularizer=regularizers.l1(0.001))(x2)\n",
    "\n",
    "input3 = keras.layers.Input(shape=(16,1024))\n",
    "x3 = Flatten()(input3)\n",
    "x3 = keras.layers.Dropout(0.9)(x3)\n",
    "# x2 = keras.layers.Dense(64, input_dim=64,kernel_regularizer=regularizers.l2(0.001),activity_regularizer=regularizers.l1(0.001))(x2)\n",
    "\n",
    "# equivalent to added = keras.layers.add([x1, x2])\n",
    "added = keras.layers.Add()([x1, x2, x3])\n",
    "# added = keras.layers.Dropout(0.9)(added)\n",
    "added = keras.layers.Dense(64, input_dim=64,kernel_regularizer=regularizers.l2(0.0001),activity_regularizer=regularizers.l1(0.0001))(added)\n",
    "\n",
    "out = keras.layers.Dense(51, activation='softmax')(added)\n",
    "model = keras.models.Model(inputs=[input1, input2, input3], outputs=out)\n",
    "adam = keras.optimizers.Adam(lr=0.000001, beta_1=0.9, beta_2=0.999, epsilon=1e-08, decay=0.0)\n",
    "model.compile(optimizer=adam,\n",
    "              loss='sparse_categorical_crossentropy',\n",
    "              metrics=['accuracy'])\n",
    "# checkpoint = ModelCheckpoint('/media/senilab/DATA2/new_feature_att/checkpoint/model-rgb', monitor='loss', verbose=1, save_best_only=True, mode='max')\n",
    "# callbacks_list = [checkpoint]\n",
    "mc = ModelCheckpoint('/media/senilab/DATA2/new_feature_att/checkpoint/model-weights-3stream-dp-{epoch:08d}.h5', \n",
    "                                     save_weights_only=True, period=1000)\n"
   ]
  },
  {
   "cell_type": "code",
   "execution_count": null,
   "metadata": {},
   "outputs": [],
   "source": [
    "history = model.fit([input_feat_att_rgb, input_feat_att, input_feat_att_op], input_label_att_rgb, epochs=150000, callbacks=[mc])"
   ]
  },
  {
   "cell_type": "code",
   "execution_count": null,
   "metadata": {},
   "outputs": [],
   "source": [
    "model.evaluate(([test_feat_att_rgb,test_feat_att,test_feat_att_op]),  test_label_att_rgb)"
   ]
  },
  {
   "cell_type": "code",
   "execution_count": null,
   "metadata": {},
   "outputs": [],
   "source": [
    "#att flow\n",
    "data_att ='/media/senilab/DATA2/new_feature_att/feature_flow_test_att_5c_new'\n",
    "load_att = hickle.load(data_att)\n",
    "test_feat_att = load_att['feat']\n",
    "test_label_att = load_att['label']\n",
    "model.evaluate(test_feat_att,  test_label_att)"
   ]
  },
  {
   "cell_type": "code",
   "execution_count": null,
   "metadata": {},
   "outputs": [],
   "source": [
    "data_att ='/media/senilab/DATA2/new_feature_att/feature_flow_att_train_i3d_5c_new'\n",
    "load_att = hickle.load(data_att)\n",
    "input_feat_att = load_att['feat']\n",
    "input_label_att = load_att['label']\n",
    "\n",
    "data_att ='/media/senilab/DATA2/new_feature_att/feature_rgb_att_train_i3d_5c_new'\n",
    "load_att_rgb = hickle.load(data_att)\n",
    "input_feat_att_rgb = load_att_rgb['feat']\n",
    "input_label_att_rgb = load_att_rgb['label']\n",
    "\n",
    "input_all = (input_feat_att + input_feat_att_rgb)/2\n",
    "# model.fit(input_all, input_label_att, epochs=10000)"
   ]
  },
  {
   "cell_type": "code",
   "execution_count": null,
   "metadata": {},
   "outputs": [],
   "source": [
    "model.fit(input_all, input_label_att, epochs=30000)"
   ]
  },
  {
   "cell_type": "code",
   "execution_count": null,
   "metadata": {},
   "outputs": [],
   "source": [
    "#att rgb\n",
    "data_att ='/media/senilab/DATA2/new_feature_att/feature_rgb_test_att_5c_new'\n",
    "load_att_rgb = hickle.load(data_att)\n",
    "test_feat_att_rgb = load_att_rgb['feat']\n",
    "test_label_att_rgb = load_att_rgb['label']\n",
    "\n",
    "data_att ='/media/senilab/DATA2/new_feature_att/feature_flow_test_att_5c_new'\n",
    "load_att = hickle.load(data_att)\n",
    "test_feat_att = load_att['feat']\n",
    "test_label_att = load_att['label']\n",
    "\n",
    "input_test_all = (test_feat_att_rgb * test_feat_att)/2\n",
    "\n",
    "model.evaluate(input_test_all,  test_label_att)\n"
   ]
  },
  {
   "cell_type": "code",
   "execution_count": null,
   "metadata": {
    "scrolled": true
   },
   "outputs": [],
   "source": [
    "#feature attention train\n",
    "train_dir_rgb = '/media/senilab/DATA2/att_feature_5c_16_dp/rgb_test/'\n",
    "list_train_rgb = sorted([f for f in listdir(train_dir_rgb) if isfile(join(train_dir_rgb, f))])\n",
    "\n",
    "input_feat_att = np.array([])\n",
    "input_label_att = np.array([])\n",
    "data_failed = np.array([])\n",
    "\n",
    "for i in list_train_rgb:\n",
    "    data_file = train_dir_rgb + i\n",
    "    try:\n",
    "        data_tr = hickle.load(data_file)\n",
    "        data_feat_tr = np.array([data_tr['feat'][0]])\n",
    "        data_label_tr = np.array([np.where(data_tr['label'] == 1)[1][0]])\n",
    "        if input_feat_att.shape[0] == 0:\n",
    "            input_feat_att = data_feat_tr\n",
    "        else:\n",
    "            input_feat_att = np.concatenate([input_feat_att, data_feat_tr], axis=0)\n",
    "\n",
    "        if input_label_att.shape[0] == 0:\n",
    "            input_label_att = data_label_tr\n",
    "        else:\n",
    "            input_label_att = np.append([input_label_att], [data_label_tr])\n",
    "    except:\n",
    "        if data_failed.shape[0] == 0:\n",
    "            data_failed = np.array([data_file])\n",
    "        else:\n",
    "            data_failed = np.append([data_failed],[data_file])"
   ]
  },
  {
   "cell_type": "code",
   "execution_count": null,
   "metadata": {},
   "outputs": [],
   "source": [
    "input_feat_att.shape"
   ]
  },
  {
   "cell_type": "code",
   "execution_count": null,
   "metadata": {},
   "outputs": [],
   "source": [
    "save_file = '/media/senilab/DATA2/att_feature_5c_16_dp/feature_rgb_att_test_i3d_5c_dp_16'\n",
    "feature = {}\n",
    "feature['feat'] = input_feat_att\n",
    "feature['label'] = input_label_att\n",
    "hickle.dump(feature, save_file)"
   ]
  },
  {
   "cell_type": "code",
   "execution_count": 7,
   "metadata": {
    "scrolled": true
   },
   "outputs": [],
   "source": [
    "#feature attention test\n",
    "test_dir_rgb = '/media/senilab/DATA2/att_feature_5c_16_dp/flow_test/'\n",
    "list_test_rgb = sorted([f for f in listdir(test_dir_rgb) if isfile(join(test_dir_rgb, f))])\n",
    "\n",
    "test_feat_att = np.array([])\n",
    "test_label_att = np.array([])\n",
    "\n",
    "for i in list_test_rgb:\n",
    "    data_file = test_dir_rgb + i\n",
    "    data_ts = hickle.load(data_file)\n",
    "    data_feat_ts = np.array([data_ts['feat'][0]])\n",
    "    data_label_ts = np.array([np.where(data_ts['label'] == 1)[1][0]])\n",
    "    if test_feat_att.shape[0] == 0:\n",
    "        test_feat_att = data_feat_ts\n",
    "    else:\n",
    "        test_feat_att = np.concatenate([test_feat_att, data_feat_ts], axis=0)\n",
    "\n",
    "    if test_label_att.shape[0] == 0:\n",
    "        test_label_att = data_label_ts\n",
    "    else:\n",
    "        test_label_att = np.append([test_label_att], [data_label_ts])\n",
    "\n"
   ]
  },
  {
   "cell_type": "code",
   "execution_count": 8,
   "metadata": {
    "scrolled": true
   },
   "outputs": [],
   "source": [
    "save_file = '/media/senilab/DATA2/att_feature_5c_16_dp/feature_flow_att_test_i3d_5c_dp_16'\n",
    "feature = {}\n",
    "feature['feat'] = test_feat_att\n",
    "feature['label'] = test_label_att\n",
    "hickle.dump(feature, save_file)"
   ]
  },
  {
   "cell_type": "code",
   "execution_count": 9,
   "metadata": {},
   "outputs": [
    {
     "data": {
      "text/plain": [
       "(1638, 16, 1024)"
      ]
     },
     "execution_count": 9,
     "metadata": {},
     "output_type": "execute_result"
    }
   ],
   "source": [
    "test_feat_att.shape"
   ]
  },
  {
   "cell_type": "code",
   "execution_count": null,
   "metadata": {},
   "outputs": [],
   "source": []
  },
  {
   "cell_type": "code",
   "execution_count": null,
   "metadata": {},
   "outputs": [],
   "source": []
  },
  {
   "cell_type": "code",
   "execution_count": null,
   "metadata": {},
   "outputs": [],
   "source": [
    "#i3d\n",
    "model.fit(load_i3d, load_i3d_label, epochs=500)"
   ]
  },
  {
   "cell_type": "code",
   "execution_count": null,
   "metadata": {},
   "outputs": [],
   "source": []
  }
 ],
 "metadata": {
  "kernelspec": {
   "display_name": "Python 3",
   "language": "python",
   "name": "python3"
  },
  "language_info": {
   "codemirror_mode": {
    "name": "ipython",
    "version": 3
   },
   "file_extension": ".py",
   "mimetype": "text/x-python",
   "name": "python",
   "nbconvert_exporter": "python",
   "pygments_lexer": "ipython3",
   "version": "3.6.10"
  }
 },
 "nbformat": 4,
 "nbformat_minor": 2
}
