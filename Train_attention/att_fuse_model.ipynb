{
 "cells": [
  {
   "cell_type": "code",
   "execution_count": null,
   "metadata": {},
   "outputs": [],
   "source": [
    "import matplotlib\n",
    "# matplotlib.use(\"Agg\")\n",
    "import keras\n",
    "from keras.callbacks import ModelCheckpoint\n",
    "# import the necessary packages\n",
    "from tensorflow import keras\n",
    "from keras.layers.core import Dropout \n",
    "from keras.layers.core import Flatten\n",
    "from keras.layers.core import Dense\n",
    "from keras.layers import Input\n",
    "from keras.layers import concatenate\n",
    "from keras.models import Model\n",
    "from keras.optimizers import Optimizer\n",
    "from sklearn.preprocessing import LabelBinarizer\n",
    "from sklearn.model_selection import train_test_split\n",
    "from sklearn.metrics import classification_report\n",
    "from keras.models import load_model\n",
    "from keras import regularizers\n",
    "from imutils import paths\n",
    "import matplotlib.pyplot as plt\n",
    "import seaborn as sn\n",
    "import numpy as np\n",
    "import argparse\n",
    "import pickle\n",
    "import cv2\n",
    "import os\n",
    "from PIL import Image\n",
    "import hickle\n",
    "from os import listdir \n",
    "from os.path import isfile, join, isdir\n",
    "import random\n",
    "import sys\n",
    "import tensorflow as tf\n",
    "os.environ[\"CUDA_VISIBLE_DEVICES\"] = \"0\"\n"
   ]
  },
  {
   "cell_type": "code",
   "execution_count": null,
   "metadata": {},
   "outputs": [],
   "source": [
    "data_att ='/media/senilab/DATA2/new_feature_att_hmdb/feature_rgb_train_i3d_5c_64_att_new_split1_att128'\n",
    "load_att_rgb = hickle.load(data_att)\n",
    "input_feat_att_rgb = load_att_rgb['feat']\n",
    "input_label_att_rgb = load_att_rgb['label']\n",
    "\n",
    "data_att ='/media/senilab/DATA2/new_feature_att_hmdb/feature_flow_train_i3d_5c_64_att_new_split1_att128'\n",
    "load_att = hickle.load(data_att)\n",
    "input_feat_att = load_att['feat']\n",
    "input_label_att = load_att['label']"
   ]
  },
  {
   "cell_type": "code",
   "execution_count": null,
   "metadata": {},
   "outputs": [],
   "source": [
    "data_att ='/media/senilab/DATA2/new_feature_att_hmdb/feature_rgb_test_i3d_5c_64_att_new_split1_att128'\n",
    "load_att_rgb = hickle.load(data_att)\n",
    "test_feat_att_rgb = load_att_rgb['feat']\n",
    "test_label_att_rgb = load_att_rgb['label']\n",
    "\n",
    "data_att ='/media/senilab/DATA2/new_feature_att_hmdb/feature_flow_test_i3d_5c_64_att_new_split1_att128'\n",
    "load_att = hickle.load(data_att)\n",
    "test_feat_att = load_att['feat']\n",
    "test_label_att = load_att['label']"
   ]
  },
  {
   "cell_type": "code",
   "execution_count": null,
   "metadata": {
    "scrolled": true
   },
   "outputs": [],
   "source": [
    "import keras\n",
    "\n",
    "input1 = keras.layers.Input(shape=(64,1024))\n",
    "x1 = Flatten()(input1)\n",
    "x1 = keras.layers.Dropout(0.9)(x1)\n",
    "# x1 = keras.layers.Dense(64, input_dim=64,kernel_regularizer=regularizers.l2(0.001),activity_regularizer=regularizers.l1(0.001))(x1)\n",
    "\n",
    "input2 = keras.layers.Input(shape=(64,1024))\n",
    "x2 = Flatten()(input2)\n",
    "x2 = keras.layers.Dropout(0.9)(x2)\n",
    "# x2 = keras.layers.Dense(64, input_dim=64,kernel_regularizer=regularizers.l2(0.001),activity_regularizer=regularizers.l1(0.001))(x2)\n",
    "\n",
    "# equivalent to added = keras.layers.add([x1, x2])\n",
    "added = keras.layers.Add()([x1, x2])\n",
    "# added = keras.layers.Dropout(0.9)(added)\n",
    "added = keras.layers.Dense(64, input_dim=64,kernel_regularizer=regularizers.l2(0.001),activity_regularizer=regularizers.l1(0.001))(added)\n",
    "\n",
    "out = keras.layers.Dense(51, activation='softmax')(added)\n",
    "model = keras.models.Model(inputs=[input1, input2], outputs=out)\n",
    "adam = keras.optimizers.Adam(lr=0.000001, beta_1=0.9, beta_2=0.999, epsilon=1e-08, decay=0.0)\n",
    "model.compile(optimizer=adam,\n",
    "              loss='sparse_categorical_crossentropy',\n",
    "              metrics=['accuracy'])\n",
    "# checkpoint = ModelCheckpoint('/media/senilab/DATA2/new_feature_att/checkpoint/model-rgb', monitor='loss', verbose=1, save_best_only=True, mode='max')\n",
    "# callbacks_list = [checkpoint]\n",
    "mc = ModelCheckpoint('/media/senilab/DATA2/new_feature_att_hmdb/checkpoint/model-weights-split1-b2-att128-0.000005-{epoch:08d}.h5', \n",
    "                                     save_weights_only=True, period=1000)\n"
   ]
  },
  {
   "cell_type": "code",
   "execution_count": null,
   "metadata": {
    "scrolled": true
   },
   "outputs": [],
   "source": [
    "model.load_weights('/media/senilab/DATA2/new_feature_att_hmdb/checkpoint/model-weights-split1-b2-att128-00013000-81.6.h5') #781"
   ]
  },
  {
   "cell_type": "code",
   "execution_count": null,
   "metadata": {},
   "outputs": [],
   "source": [
    "model.evaluate(([test_feat_att_rgb, test_feat_att]),  test_label_att)"
   ]
  },
  {
   "cell_type": "code",
   "execution_count": null,
   "metadata": {
    "scrolled": true
   },
   "outputs": [],
   "source": [
    "model.fit([input_feat_att_rgb, input_feat_att], input_label_att_rgb, epochs=100000, callbacks=[mc])"
   ]
  },
  {
   "cell_type": "code",
   "execution_count": null,
   "metadata": {
    "scrolled": true
   },
   "outputs": [],
   "source": [
    "history = model.fit([input_feat_att_rgb, input_feat_att, input_feat_att_dp], input_label_att_rgb, epochs=20000, callbacks=[mc])"
   ]
  },
  {
   "cell_type": "code",
   "execution_count": null,
   "metadata": {},
   "outputs": [],
   "source": [
    "test_out = model.predict(([test_feat_att_rgb, test_feat_att]))"
   ]
  },
  {
   "cell_type": "code",
   "execution_count": null,
   "metadata": {},
   "outputs": [],
   "source": [
    "label_test_out = np.array([])\n",
    "for i in range (len(test_feat_att_rgb)):\n",
    "    if label_test_out.shape[0] == 0:\n",
    "        test_label = test_out[i].argmax()\n",
    "        label_test_out = np.array([test_label])\n",
    "    else:\n",
    "        test_label = test_out[i].argmax()\n",
    "#         label_test_out = np.concatenate(([label_test_out],[test_label]))\n",
    "        try:\n",
    "            label_test_out = np.concatenate(([label_test_out],np.array([test_label])),axis=0)\n",
    "        except:\n",
    "            label_test_out = np.concatenate((label_test_out,np.array([test_label])),axis=0)"
   ]
  },
  {
   "cell_type": "code",
   "execution_count": null,
   "metadata": {},
   "outputs": [],
   "source": [
    "from sklearn.metrics import confusion_matrix\n",
    "matrix = confusion_matrix(test_label_att_rgb, label_test_out, labels=np.unique(test_label_att))\n",
    "matrix"
   ]
  },
  {
   "cell_type": "code",
   "execution_count": null,
   "metadata": {},
   "outputs": [],
   "source": [
    "plt.subplots(figsize=(20, 20))\n",
    " \n",
    "sn.heatmap(matrix,annot=True,fmt='g',cmap=\"Blues\")\n",
    "plt.ylabel('True Label')\n",
    "plt.xlabel('Predicted Label')\n",
    "plt.title('Confusion Matrix')"
   ]
  },
  {
   "cell_type": "code",
   "execution_count": null,
   "metadata": {},
   "outputs": [],
   "source": [
    "import numpy as np\n",
    "import pandas as pd\n",
    "import matplotlib.pyplot as plt\n",
    "import seaborn as sns\n",
    "from sklearn.metrics import confusion_matrix\n",
    "\n",
    "def cm_analysis(y_true, y_pred, filename, labels, ymap=None, figsize=(10,10)):\n",
    "    \"\"\"\n",
    "    Generate matrix plot of confusion matrix with pretty annotations.\n",
    "    The plot image is saved to disk.\n",
    "    args: \n",
    "      y_true:    true label of the data, with shape (nsamples,)\n",
    "      y_pred:    prediction of the data, with shape (nsamples,)\n",
    "      filename:  filename of figure file to save\n",
    "      labels:    string array, name the order of class labels in the confusion matrix.\n",
    "                 use `clf.classes_` if using scikit-learn models.\n",
    "                 with shape (nclass,).\n",
    "      ymap:      dict: any -> string, length == nclass.\n",
    "                 if not None, map the labels & ys to more understandable strings.\n",
    "                 Caution: original y_true, y_pred and labels must align.\n",
    "      figsize:   the size of the figure plotted.\n",
    "    \"\"\"\n",
    "    if ymap is not None:\n",
    "        y_pred = [ymap[yi] for yi in y_pred]\n",
    "        y_true = [ymap[yi] for yi in y_true]\n",
    "        labels = [ymap[yi] for yi in labels]\n",
    "    cm = confusion_matrix(y_true, y_pred, labels=labels)\n",
    "    cm_sum = np.sum(cm, axis=1, keepdims=True)\n",
    "    cm_perc = cm / cm_sum.astype(float) * 100\n",
    "    annot = np.empty_like(cm).astype(str)\n",
    "    nrows, ncols = cm.shape\n",
    "    for i in range(nrows):\n",
    "        for j in range(ncols):\n",
    "            c = cm[i, j]\n",
    "            p = cm_perc[i, j]\n",
    "            if i == j:\n",
    "                s = cm_sum[i]\n",
    "                annot[i, j] = '%.1f%%\\n%d/%d' % (p, c, s)\n",
    "            elif c == 0:\n",
    "                annot[i, j] = ''\n",
    "            else:\n",
    "                annot[i, j] = '%.1f%%\\n%d' % (p, c)\n",
    "    cm = pd.DataFrame(cm, index=labels, columns=labels)\n",
    "    cm.index.name = 'Actual'\n",
    "    cm.columns.name = 'Predicted'\n",
    "    fig, ax = plt.subplots(figsize=figsize)\n",
    "    sns.heatmap(cm, annot=annot, fmt='', ax=ax,cmap=\"Blues\")\n",
    "    plt.savefig(filename)"
   ]
  },
  {
   "cell_type": "code",
   "execution_count": null,
   "metadata": {},
   "outputs": [],
   "source": [
    "cm_analysis(test_label_att, label_test_out, 'Matrix',labels=np.unique(test_label_att), figsize=(40,30))"
   ]
  },
  {
   "cell_type": "code",
   "execution_count": null,
   "metadata": {},
   "outputs": [],
   "source": []
  }
 ],
 "metadata": {
  "kernelspec": {
   "display_name": "Python 3",
   "language": "python",
   "name": "python3"
  },
  "language_info": {
   "codemirror_mode": {
    "name": "ipython",
    "version": 3
   },
   "file_extension": ".py",
   "mimetype": "text/x-python",
   "name": "python",
   "nbconvert_exporter": "python",
   "pygments_lexer": "ipython3",
   "version": "3.6.10"
  }
 },
 "nbformat": 4,
 "nbformat_minor": 2
}
