{
 "cells": [
  {
   "cell_type": "code",
   "execution_count": null,
   "metadata": {},
   "outputs": [],
   "source": [
    "import matplotlib\n",
    "matplotlib.use(\"Agg\")\n",
    " \n",
    "# import the necessary packages\n",
    "from tensorflow import keras\n",
    "from keras.layers.core import Dropout\n",
    "from keras.layers.core import Flatten\n",
    "from keras.layers.core import Dense\n",
    "from keras.layers import Input\n",
    "from keras.models import Model\n",
    "from keras.optimizers import Optimizer\n",
    "from sklearn.preprocessing import LabelBinarizer\n",
    "from sklearn.model_selection import train_test_split\n",
    "from sklearn.metrics import classification_report\n",
    "from keras import regularizers\n",
    "from imutils import paths\n",
    "import matplotlib.pyplot as plt\n",
    "import numpy as np\n",
    "import argparse\n",
    "import pickle\n",
    "import cv2\n",
    "import os\n",
    "from PIL import Image\n",
    "import hickle\n",
    "from os import listdir \n",
    "from os.path import isfile, join, isdir\n",
    "import random\n",
    "import sys\n",
    "import tensorflow as tf\n",
    "os.environ[\"CUDA_VISIBLE_DEVICES\"] = \"0\"\n"
   ]
  },
  {
   "cell_type": "code",
   "execution_count": null,
   "metadata": {},
   "outputs": [],
   "source": [
    "#i3d 5c\n",
    "model = keras.Sequential([\n",
    "    keras.layers.Flatten(input_shape=(16,1024)),\n",
    "    #keras.layers.Dropout(0.5),\n",
    "    #keras.layers.Dense(512, activation='relu'),\n",
    "    #keras.layers.Dropout(0.5),\n",
    "    #keras.layers.Dense(256, activation='relu'),\n",
    "    #keras.layers.Dropout(0.5),\n",
    "    keras.layers.Dropout(0.9),\n",
    "    keras.layers.Dense(64, input_dim=64,kernel_regularizer=regularizers.l2(0.01),activity_regularizer=regularizers.l1(0.01)),    \n",
    "    keras.layers.Dense(51, activation='softmax')\n",
    "])\n",
    "adam = keras.optimizers.Adam(lr=0.001, beta_1=0.9, beta_2=0.999, epsilon=1e-08, decay=0.0)\n",
    "\n",
    "model.compile(optimizer=adam,\n",
    "              loss='sparse_categorical_crossentropy',\n",
    "              metrics=['accuracy'])"
   ]
  },
  {
   "cell_type": "code",
   "execution_count": null,
   "metadata": {},
   "outputs": [],
   "source": [
    "#i3d train\n",
    "data_i3d ='/media/senilab/DATA2/feature_hmdb_i3d_5c/feature_train_rgb_all_i3d_5c'\n",
    "load_i3d = hickle.load(data_i3d)\n",
    "data_i3d_label ='/media/senilab/DATA2/feature_hmdb_i3d_5c/label_train_rgb_all_i3d_5c'\n",
    "load_i3d_label = hickle.load(data_i3d_label)\n",
    "model.fit(load_i3d, load_i3d_label, epochs=500)"
   ]
  },
  {
   "cell_type": "code",
   "execution_count": null,
   "metadata": {},
   "outputs": [],
   "source": [
    "#i3d 5c test\n",
    "data_i3d = '/media/senilab/DATA2/feature_hmdb_i3d_5c/feature_rgb_test_i3d_5c'\n",
    "load_test = hickle.load(data_i3d)\n",
    "test_feat = load_test['feat']\n",
    "test_label = load_test['label']\n",
    "model.evaluate(test_feat,  test_label)"
   ]
  },
  {
   "cell_type": "code",
   "execution_count": null,
   "metadata": {
    "scrolled": true
   },
   "outputs": [],
   "source": [
    "#feature I3D\n",
    "train_dir_rgb = '/media/senilab/DATA2/att_feature_5c_16_dp/train_flow/'\n",
    "list_train_rgb = sorted([f for f in listdir(train_dir_rgb) if isfile(join(train_dir_rgb, f))])\n",
    "\n",
    "input_feat = np.array([])\n",
    "input_label = np.array([])\n",
    "\n",
    "for i in list_train_rgb:\n",
    "    data_file = train_dir_rgb + i\n",
    "    data = hickle.load(data_file)\n",
    "    data_feat = np.array([data['feat']])\n",
    "    data_label = np.array([np.where(data['label'] == 1)[1][0]])\n",
    "    \n",
    "    if input_feat.shape[0] == 0:\n",
    "        input_feat = data_feat\n",
    "    else:\n",
    "        input_feat = np.concatenate([input_feat, data_feat], axis=0)\n",
    "    \n",
    "    if input_label.shape[0] == 0:\n",
    "        input_label = data_label\n",
    "    else:\n",
    "        input_label = np.append([input_label], [data_label])\n",
    "\n",
    "save_file = '/media/senilab/DATA2/feature_attention/feature_flow_train_i3d_5c_sorted'\n",
    "feature = {}\n",
    "feature['feat'] = input_feat\n",
    "feature['label'] = input_label\n",
    "hickle.dump(feature, save_file)"
   ]
  },
  {
   "cell_type": "code",
   "execution_count": null,
   "metadata": {},
   "outputs": [],
   "source": [
    "#feature I3D\n",
    "test_dir_rgb = '/media/senilab/DATA2/feature_hmdb_i3d_5c/test_flow/'\n",
    "list_test_rgb = sorted([f for f in listdir(test_dir_rgb) if isfile(join(test_dir_rgb, f))])\n",
    "\n",
    "# random.shuffle(list_test_rgb)\n",
    "\n",
    "test_feat = np.array([])\n",
    "test_label = np.array([])\n",
    "\n",
    "for i in list_test_rgb:\n",
    "    data_file = test_dir_rgb + i\n",
    "    data_ts = hickle.load(data_file)\n",
    "    data_feat_ts = np.array([data_ts['feat']])\n",
    "    data_label_ts = np.array([np.where(data_ts['label'] == 1)[1][0]])\n",
    "    \n",
    "    if test_feat.shape[0] == 0:\n",
    "        test_feat = data_feat_ts\n",
    "    else:\n",
    "        test_feat = np.concatenate([test_feat, data_feat_ts], axis=0)\n",
    "    \n",
    "    if test_label.shape[0] == 0:\n",
    "        test_label = data_label_ts\n",
    "    else:\n",
    "        test_label = np.append([test_label], [data_label_ts])\n",
    "        \n",
    "save_file = '/media/senilab/DATA2/feature_attention/feature_flow_test_i3d_5c_sorted'\n",
    "feature = {}\n",
    "feature['feat'] = test_feat\n",
    "feature['label'] = test_label\n",
    "hickle.dump(feature, save_file)"
   ]
  },
  {
   "cell_type": "code",
   "execution_count": null,
   "metadata": {},
   "outputs": [],
   "source": [
    "save_file = '/media/senilab/DATA2/feature_attention/feature_rgb_train_i3d_5c'\n",
    "feature = {}\n",
    "feature['feat'] = test_feat\n",
    "feature['label'] = test_label\n",
    "hickle.dump(feature, save_file)"
   ]
  },
  {
   "cell_type": "code",
   "execution_count": null,
   "metadata": {
    "scrolled": true
   },
   "outputs": [],
   "source": [
    "data_file = '/media/senilab/DATA2/feature_attention/rgb_train/Veoh_Alpha_Dog_1_walk_f_cm_np1_ba_med_7'\n",
    "data_tr = hickle.load(data_file)\n",
    "data_feat_tr = np.array([data_tr['feat'][0]])"
   ]
  },
  {
   "cell_type": "code",
   "execution_count": null,
   "metadata": {
    "scrolled": true
   },
   "outputs": [],
   "source": []
  },
  {
   "cell_type": "code",
   "execution_count": null,
   "metadata": {},
   "outputs": [],
   "source": []
  },
  {
   "cell_type": "code",
   "execution_count": null,
   "metadata": {
    "scrolled": true
   },
   "outputs": [],
   "source": [
    "#att\n",
    "data_att ='/media/senilab/DATA2/feature_attention/rgb_att_i3d_5c'\n",
    "load_att = hickle.load(data_att)\n",
    "input_feat_att = load_att['feat']\n",
    "input_label_att = load_att['label']\n",
    "model.fit(input_feat_att, input_label_att, epochs=1000)"
   ]
  },
  {
   "cell_type": "code",
   "execution_count": null,
   "metadata": {},
   "outputs": [],
   "source": []
  },
  {
   "cell_type": "code",
   "execution_count": null,
   "metadata": {},
   "outputs": [],
   "source": []
  },
  {
   "cell_type": "code",
   "execution_count": null,
   "metadata": {},
   "outputs": [],
   "source": [
    "#i3d\n",
    "model.fit(load_i3d, load_i3d_label, epochs=500)"
   ]
  },
  {
   "cell_type": "code",
   "execution_count": null,
   "metadata": {},
   "outputs": [],
   "source": []
  }
 ],
 "metadata": {
  "kernelspec": {
   "display_name": "Python 3",
   "language": "python",
   "name": "python3"
  },
  "language_info": {
   "codemirror_mode": {
    "name": "ipython",
    "version": 3
   },
   "file_extension": ".py",
   "mimetype": "text/x-python",
   "name": "python",
   "nbconvert_exporter": "python",
   "pygments_lexer": "ipython3",
   "version": "3.6.10"
  }
 },
 "nbformat": 4,
 "nbformat_minor": 2
}
